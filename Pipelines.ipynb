{
 "cells": [
  {
   "cell_type": "code",
   "execution_count": 1,
   "metadata": {
    "_cell_guid": "31033a87-3e16-42c3-a6be-29daf4235050",
    "_execution_state": "idle",
    "_uuid": "36074332d43fe69a6c5b6f00a76cff492860d25e"
   },
   "outputs": [],
   "source": [
    "import numpy as np\n",
    "import pandas as pd\n",
    "from sklearn import datasets\n",
    "import seaborn as sns\n",
    "from sklearn.feature_selection import RFE\n",
    "from sklearn.model_selection import train_test_split\n",
    "from sklearn.model_selection import cross_val_score\n",
    "from sklearn.model_selection import KFold\n",
    "from sklearn.pipeline import Pipeline\n",
    "from sklearn.preprocessing import StandardScaler\n",
    "import matplotlib.pyplot as plt"
   ]
  },
  {
   "cell_type": "code",
   "execution_count": 7,
   "metadata": {
    "_cell_guid": "014b1675-06fb-402c-a0e0-bbd39cedba85",
    "_execution_state": "idle",
    "_uuid": "d738b074b24d10dcc49be96008c13a909cfe2365"
   },
   "outputs": [
    {
     "data": {
      "text/html": [
       "<div>\n",
       "<style scoped>\n",
       "    .dataframe tbody tr th:only-of-type {\n",
       "        vertical-align: middle;\n",
       "    }\n",
       "\n",
       "    .dataframe tbody tr th {\n",
       "        vertical-align: top;\n",
       "    }\n",
       "\n",
       "    .dataframe thead th {\n",
       "        text-align: right;\n",
       "    }\n",
       "</style>\n",
       "<table border=\"1\" class=\"dataframe\">\n",
       "  <thead>\n",
       "    <tr style=\"text-align: right;\">\n",
       "      <th></th>\n",
       "      <th>separator_speed_perc_sp</th>\n",
       "      <th>separator_pwr_kw_pv</th>\n",
       "      <th>mill_dp_mbar_pv</th>\n",
       "      <th>total_feed_ton_h_pv</th>\n",
       "      <th>fly_ash_1_perc_pv</th>\n",
       "      <th>fly_ash_2_perc_pv</th>\n",
       "      <th>fan_speed_rpm_pv</th>\n",
       "      <th>separator_speed_rpm_pv</th>\n",
       "      <th>grinding_pressure_bar_pv</th>\n",
       "      <th>mill_injection_water_m3_h_pv</th>\n",
       "      <th>...</th>\n",
       "      <th>mill_injection_water_m3_h_pv_5</th>\n",
       "      <th>mill_injection_water_m3_h_pv_6</th>\n",
       "      <th>mill_injection_water_m3_h_pv_7</th>\n",
       "      <th>mill_injection_water_m3_h_pv_8</th>\n",
       "      <th>mill_injection_water_m3_h_pv_9</th>\n",
       "      <th>bucket_elv_mtr_pwr_kw_pv_6</th>\n",
       "      <th>bucket_elv_mtr_pwr_kw_pv_7</th>\n",
       "      <th>bucket_elv_mtr_pwr_kw_pv_8</th>\n",
       "      <th>bucket_elv_mtr_pwr_kw_pv_9</th>\n",
       "      <th>bucket_elv_mtr_pwr_kw_pv_10</th>\n",
       "    </tr>\n",
       "    <tr>\n",
       "      <th>date</th>\n",
       "      <th></th>\n",
       "      <th></th>\n",
       "      <th></th>\n",
       "      <th></th>\n",
       "      <th></th>\n",
       "      <th></th>\n",
       "      <th></th>\n",
       "      <th></th>\n",
       "      <th></th>\n",
       "      <th></th>\n",
       "      <th></th>\n",
       "      <th></th>\n",
       "      <th></th>\n",
       "      <th></th>\n",
       "      <th></th>\n",
       "      <th></th>\n",
       "      <th></th>\n",
       "      <th></th>\n",
       "      <th></th>\n",
       "      <th></th>\n",
       "      <th></th>\n",
       "    </tr>\n",
       "  </thead>\n",
       "  <tbody>\n",
       "    <tr>\n",
       "      <th>2019-05-11 03:15:00</th>\n",
       "      <td>42.7</td>\n",
       "      <td>56.98</td>\n",
       "      <td>32.95</td>\n",
       "      <td>83.770</td>\n",
       "      <td>30.150</td>\n",
       "      <td>0.110</td>\n",
       "      <td>952.0</td>\n",
       "      <td>747.190</td>\n",
       "      <td>121.0</td>\n",
       "      <td>2.45</td>\n",
       "      <td>...</td>\n",
       "      <td>2.455</td>\n",
       "      <td>2.46</td>\n",
       "      <td>2.455</td>\n",
       "      <td>2.465</td>\n",
       "      <td>2.460</td>\n",
       "      <td>4.910</td>\n",
       "      <td>4.945</td>\n",
       "      <td>4.975</td>\n",
       "      <td>4.92</td>\n",
       "      <td>4.98</td>\n",
       "    </tr>\n",
       "    <tr>\n",
       "      <th>2019-05-11 09:01:00</th>\n",
       "      <td>42.7</td>\n",
       "      <td>56.55</td>\n",
       "      <td>32.65</td>\n",
       "      <td>84.715</td>\n",
       "      <td>30.850</td>\n",
       "      <td>0.080</td>\n",
       "      <td>952.0</td>\n",
       "      <td>747.215</td>\n",
       "      <td>115.5</td>\n",
       "      <td>2.69</td>\n",
       "      <td>...</td>\n",
       "      <td>2.690</td>\n",
       "      <td>2.69</td>\n",
       "      <td>2.690</td>\n",
       "      <td>2.695</td>\n",
       "      <td>2.690</td>\n",
       "      <td>4.765</td>\n",
       "      <td>4.780</td>\n",
       "      <td>4.810</td>\n",
       "      <td>4.79</td>\n",
       "      <td>4.80</td>\n",
       "    </tr>\n",
       "    <tr>\n",
       "      <th>2019-05-11 09:02:00</th>\n",
       "      <td>42.7</td>\n",
       "      <td>56.53</td>\n",
       "      <td>32.42</td>\n",
       "      <td>84.795</td>\n",
       "      <td>30.795</td>\n",
       "      <td>0.085</td>\n",
       "      <td>952.0</td>\n",
       "      <td>747.195</td>\n",
       "      <td>121.0</td>\n",
       "      <td>2.69</td>\n",
       "      <td>...</td>\n",
       "      <td>2.695</td>\n",
       "      <td>2.69</td>\n",
       "      <td>2.690</td>\n",
       "      <td>2.690</td>\n",
       "      <td>2.695</td>\n",
       "      <td>4.785</td>\n",
       "      <td>4.765</td>\n",
       "      <td>4.780</td>\n",
       "      <td>4.81</td>\n",
       "      <td>4.79</td>\n",
       "    </tr>\n",
       "  </tbody>\n",
       "</table>\n",
       "<p>3 rows × 81 columns</p>\n",
       "</div>"
      ],
      "text/plain": [
       "                     separator_speed_perc_sp  separator_pwr_kw_pv  \\\n",
       "date                                                                \n",
       "2019-05-11 03:15:00                     42.7                56.98   \n",
       "2019-05-11 09:01:00                     42.7                56.55   \n",
       "2019-05-11 09:02:00                     42.7                56.53   \n",
       "\n",
       "                     mill_dp_mbar_pv  total_feed_ton_h_pv  fly_ash_1_perc_pv  \\\n",
       "date                                                                           \n",
       "2019-05-11 03:15:00            32.95               83.770             30.150   \n",
       "2019-05-11 09:01:00            32.65               84.715             30.850   \n",
       "2019-05-11 09:02:00            32.42               84.795             30.795   \n",
       "\n",
       "                     fly_ash_2_perc_pv  fan_speed_rpm_pv  \\\n",
       "date                                                       \n",
       "2019-05-11 03:15:00              0.110             952.0   \n",
       "2019-05-11 09:01:00              0.080             952.0   \n",
       "2019-05-11 09:02:00              0.085             952.0   \n",
       "\n",
       "                     separator_speed_rpm_pv  grinding_pressure_bar_pv  \\\n",
       "date                                                                    \n",
       "2019-05-11 03:15:00                 747.190                     121.0   \n",
       "2019-05-11 09:01:00                 747.215                     115.5   \n",
       "2019-05-11 09:02:00                 747.195                     121.0   \n",
       "\n",
       "                     mill_injection_water_m3_h_pv  ...  \\\n",
       "date                                               ...   \n",
       "2019-05-11 03:15:00                          2.45  ...   \n",
       "2019-05-11 09:01:00                          2.69  ...   \n",
       "2019-05-11 09:02:00                          2.69  ...   \n",
       "\n",
       "                     mill_injection_water_m3_h_pv_5  \\\n",
       "date                                                  \n",
       "2019-05-11 03:15:00                           2.455   \n",
       "2019-05-11 09:01:00                           2.690   \n",
       "2019-05-11 09:02:00                           2.695   \n",
       "\n",
       "                     mill_injection_water_m3_h_pv_6  \\\n",
       "date                                                  \n",
       "2019-05-11 03:15:00                            2.46   \n",
       "2019-05-11 09:01:00                            2.69   \n",
       "2019-05-11 09:02:00                            2.69   \n",
       "\n",
       "                     mill_injection_water_m3_h_pv_7  \\\n",
       "date                                                  \n",
       "2019-05-11 03:15:00                           2.455   \n",
       "2019-05-11 09:01:00                           2.690   \n",
       "2019-05-11 09:02:00                           2.690   \n",
       "\n",
       "                     mill_injection_water_m3_h_pv_8  \\\n",
       "date                                                  \n",
       "2019-05-11 03:15:00                           2.465   \n",
       "2019-05-11 09:01:00                           2.695   \n",
       "2019-05-11 09:02:00                           2.690   \n",
       "\n",
       "                     mill_injection_water_m3_h_pv_9  \\\n",
       "date                                                  \n",
       "2019-05-11 03:15:00                           2.460   \n",
       "2019-05-11 09:01:00                           2.690   \n",
       "2019-05-11 09:02:00                           2.695   \n",
       "\n",
       "                     bucket_elv_mtr_pwr_kw_pv_6  bucket_elv_mtr_pwr_kw_pv_7  \\\n",
       "date                                                                          \n",
       "2019-05-11 03:15:00                       4.910                       4.945   \n",
       "2019-05-11 09:01:00                       4.765                       4.780   \n",
       "2019-05-11 09:02:00                       4.785                       4.765   \n",
       "\n",
       "                     bucket_elv_mtr_pwr_kw_pv_8  bucket_elv_mtr_pwr_kw_pv_9  \\\n",
       "date                                                                          \n",
       "2019-05-11 03:15:00                       4.975                        4.92   \n",
       "2019-05-11 09:01:00                       4.810                        4.79   \n",
       "2019-05-11 09:02:00                       4.780                        4.81   \n",
       "\n",
       "                     bucket_elv_mtr_pwr_kw_pv_10  \n",
       "date                                              \n",
       "2019-05-11 03:15:00                         4.98  \n",
       "2019-05-11 09:01:00                         4.80  \n",
       "2019-05-11 09:02:00                         4.79  \n",
       "\n",
       "[3 rows x 81 columns]"
      ]
     },
     "execution_count": 7,
     "metadata": {},
     "output_type": "execute_result"
    }
   ],
   "source": [
    "data = pd.read_csv('data_nona.csv', parse_dates=['date'], index_col=['date'], dayfirst=True)\n",
    "data.head(3)"
   ]
  },
  {
   "cell_type": "code",
   "execution_count": 8,
   "metadata": {
    "_cell_guid": "275c9150-5b4f-405b-a097-197f82339592",
    "_execution_state": "idle",
    "_uuid": "dfc668393255219aa87e898350a8155f28e00376"
   },
   "outputs": [
    {
     "name": "stdout",
     "output_type": "stream",
     "text": [
      "(68967, 81)\n"
     ]
    }
   ],
   "source": [
    "print(data.shape)"
   ]
  },
  {
   "cell_type": "markdown",
   "metadata": {
    "_cell_guid": "e0d264d5-f63c-4809-9692-aecc4e0bad3b",
    "_uuid": "e32b6e99bcd6018144e34dc4b43d4c60ad3782e8"
   },
   "source": [
    "Check for missing or null values in the data set. Looks like everything is in place. "
   ]
  },
  {
   "cell_type": "code",
   "execution_count": 9,
   "metadata": {
    "_cell_guid": "4f76d9fa-31c2-468a-a102-d201ff51b1b5",
    "_uuid": "25b8008838e79c275bd86f47a1c996ab0ff36566"
   },
   "outputs": [
    {
     "name": "stdout",
     "output_type": "stream",
     "text": [
      "0\n"
     ]
    }
   ],
   "source": [
    "print(data.isnull().any().sum())"
   ]
  },
  {
   "cell_type": "code",
   "execution_count": 10,
   "metadata": {
    "_cell_guid": "e7315784-5a95-4a7a-bbf2-0c07ec75f350",
    "_uuid": "26ee8ec4d5d81031b2f38634b30b75b08cbb041e"
   },
   "outputs": [
    {
     "name": "stdout",
     "output_type": "stream",
     "text": [
      "separator_speed_perc_sp        float64\n",
      "separator_pwr_kw_pv            float64\n",
      "mill_dp_mbar_pv                float64\n",
      "total_feed_ton_h_pv            float64\n",
      "fly_ash_1_perc_pv              float64\n",
      "                                ...   \n",
      "bucket_elv_mtr_pwr_kw_pv_6     float64\n",
      "bucket_elv_mtr_pwr_kw_pv_7     float64\n",
      "bucket_elv_mtr_pwr_kw_pv_8     float64\n",
      "bucket_elv_mtr_pwr_kw_pv_9     float64\n",
      "bucket_elv_mtr_pwr_kw_pv_10    float64\n",
      "Length: 81, dtype: object\n"
     ]
    }
   ],
   "source": [
    "print(data.dtypes)"
   ]
  },
  {
   "cell_type": "code",
   "execution_count": 11,
   "metadata": {
    "_cell_guid": "e79e4266-f771-40b2-8799-c8bb22694469",
    "_uuid": "13b14840aa10eaf8bed1725c3bc23c496ea11059"
   },
   "outputs": [],
   "source": [
    "correlation = data.corr(method='pearson')"
   ]
  },
  {
   "cell_type": "code",
   "execution_count": 14,
   "metadata": {
    "_cell_guid": "9ca9547d-9e9e-4874-bbbb-0e075fe0bbcb",
    "_uuid": "e6377e67919d894c88451c89a39be6056ca5d9fb"
   },
   "outputs": [
    {
     "data": {
      "image/png": "[encoded data removed]",
      "text/plain": [
       "<Figure size 432x288 with 2 Axes>"
      ]
     },
     "metadata": {},
     "output_type": "display_data"
    }
   ],
   "source": [
    "correlation_map = np.corrcoef(correlation)\n",
    "sns.set(font_scale=1.0)\n",
    "heatmap = sns.heatmap(correlation_map, cbar=True, annot=True, square=True, fmt='.2f')\n",
    "\n",
    "plt.show()"
   ]
  },
  {
   "cell_type": "code",
   "execution_count": 15,
   "metadata": {
    "_cell_guid": "8e256576-6940-4edf-8d65-995bed86f55b",
    "_uuid": "d78050afc9d6888cdb45cd9b58069aaa1a00c1ed"
   },
   "outputs": [],
   "source": [
    "features = ['mill_dp_mbar_pv_1',\n",
    "            'mill_dp_mbar_pv_2',\n",
    "            'mill_dp_mbar_pv_3',\n",
    "            'mill_dp_mbar_pv_4',\n",
    "            'mill_dp_mbar_pv_5',\n",
    "            'total_feed_ton_h_pv_7',\n",
    "            'total_feed_ton_h_pv_8',\n",
    "            'total_feed_ton_h_pv_9',\n",
    "            'total_feed_ton_h_pv_10',\n",
    "            'total_feed_ton_h_pv_11',\n",
    "            'total_feed_ton_h_pv_12',\n",
    "            'fly_ash_1_perc_pv_17', \n",
    "            'fly_ash_1_perc_pv_18',\n",
    "            'fly_ash_1_perc_pv_19',\n",
    "            'fly_ash_1_perc_pv_20',\n",
    "            'fly_ash_1_perc_pv_21',\n",
    "            'fly_ash_1_perc_pv_22',\n",
    "            'fly_ash_2_perc_pv_17',\n",
    "            'fly_ash_2_perc_pv_18',\n",
    "            'fly_ash_2_perc_pv_19',\n",
    "            'fly_ash_2_perc_pv_20',\n",
    "            'fly_ash_2_perc_pv_21', \n",
    "            'fly_ash_2_perc_pv_22',\n",
    "            'fan_speed_rpm_pv_5',\n",
    "            'fan_speed_rpm_pv_6',\n",
    "            'fan_speed_rpm_pv_7',\n",
    "            'fan_speed_rpm_pv_8',\n",
    "            'fan_speed_rpm_pv_9',\n",
    "            'fan_speed_rpm_pv_10',\n",
    "            'separator_speed_rpm_pv_3',\n",
    "            'separator_speed_rpm_pv_4',\n",
    "            'separator_speed_rpm_pv_5',\n",
    "            'separator_speed_rpm_pv_6',\n",
    "            'separator_speed_rpm_pv_7',\n",
    "            'separator_speed_rpm_pv_8',\n",
    "            'grinding_pressure_bar_pv_5',\n",
    "            'grinding_pressure_bar_pv_6',\n",
    "            'grinding_pressure_bar_pv_7',\n",
    "            'grinding_pressure_bar_pv_8',\n",
    "            'grinding_pressure_bar_pv_9',\n",
    "            'grinding_pressure_bar_pv_10',\n",
    "            'mill_injection_water_m3_h_pv_4',\n",
    "            'mill_injection_water_m3_h_pv_5',\n",
    "            'mill_injection_water_m3_h_pv_6',\n",
    "            'mill_injection_water_m3_h_pv_7',\n",
    "            'mill_injection_water_m3_h_pv_8',\n",
    "            'mill_injection_water_m3_h_pv_9',\n",
    "            'bucket_elv_mtr_pwr_kw_pv_5',\n",
    "            'bucket_elv_mtr_pwr_kw_pv_6',\n",
    "            'bucket_elv_mtr_pwr_kw_pv_7',\n",
    "            'bucket_elv_mtr_pwr_kw_pv_8',\n",
    "            'bucket_elv_mtr_pwr_kw_pv_9',\n",
    "            'bucket_elv_mtr_pwr_kw_pv_10']\n",
    "\n",
    "X = data[features].values\n",
    "Y = data['mill_dp_mbar_pv'].values"
   ]
  },
  {
   "cell_type": "code",
   "execution_count": 18,
   "metadata": {
    "_cell_guid": "7a5e0a28-4a68-4c68-97bd-6d79caf7e018",
    "_uuid": "4c80754f0ca8e82cef1ee4336ce03d43c46a6944"
   },
   "outputs": [],
   "source": [
    "X_train, X_test, Y_train, Y_test = train_test_split (X, Y, test_size = 0.20, random_state=42)"
   ]
  },
  {
   "cell_type": "code",
   "execution_count": 19,
   "metadata": {
    "_cell_guid": "d658c16f-df40-4e6b-bfd9-d9e5efde7d14",
    "_uuid": "34fcd69e3fe245593a02a9c5a58b0f08ebdf0d9b"
   },
   "outputs": [],
   "source": [
    "from sklearn.linear_model import LinearRegression\n",
    "from sklearn.linear_model import Lasso\n",
    "from sklearn.linear_model import ElasticNet\n",
    "from sklearn.tree import DecisionTreeRegressor\n",
    "from sklearn.neighbors import KNeighborsRegressor\n",
    "from sklearn.ensemble import GradientBoostingRegressor"
   ]
  },
  {
   "cell_type": "code",
   "execution_count": 20,
   "metadata": {
    "_cell_guid": "4b2a6e6d-fe82-4d8a-97ea-4a68e3006365",
    "_uuid": "1ebfb9c3c8f89a07e829314ade45453bffa4d45e"
   },
   "outputs": [
    {
     "name": "stdout",
     "output_type": "stream",
     "text": [
      "ScaledLR: -0.413447 (0.015065)\n",
      "ScaledLASSO: -1.451822 (0.042630)\n",
      "ScaledEN: -1.239342 (0.043511)\n",
      "ScaledKNN: -0.755022 (0.027847)\n",
      "ScaledCART: -0.874125 (0.037357)\n",
      "ScaledGBM: -0.429239 (0.016044)\n"
     ]
    }
   ],
   "source": [
    "pipelines = []\n",
    "pipelines.append(('ScaledLR', Pipeline([('Scaler', StandardScaler()),('LR',LinearRegression())])))\n",
    "pipelines.append(('ScaledLASSO', Pipeline([('Scaler', StandardScaler()),('LASSO', Lasso())])))\n",
    "pipelines.append(('ScaledEN', Pipeline([('Scaler', StandardScaler()),('EN', ElasticNet())])))\n",
    "pipelines.append(('ScaledKNN', Pipeline([('Scaler', StandardScaler()),('KNN', KNeighborsRegressor())])))\n",
    "pipelines.append(('ScaledCART', Pipeline([('Scaler', StandardScaler()),('CART', DecisionTreeRegressor())])))\n",
    "pipelines.append(('ScaledGBM', Pipeline([('Scaler', StandardScaler()),('GBM', GradientBoostingRegressor())])))\n",
    "\n",
    "results = []\n",
    "names = []\n",
    "for name, model in pipelines:\n",
    "    kfold = KFold(n_splits=10, random_state=21)\n",
    "    cv_results = cross_val_score(model, X_train, Y_train, cv=kfold, scoring='neg_mean_squared_error')\n",
    "    results.append(cv_results)\n",
    "    names.append(name)\n",
    "    msg = \"%s: %f (%f)\" % (name, cv_results.mean(), cv_results.std())\n",
    "    print(msg)"
   ]
  },
  {
   "cell_type": "markdown",
   "metadata": {
    "_cell_guid": "bd9b2e4c-99ea-4bc8-9f2a-891a9c8ca1fc",
    "_uuid": "106b06ba6811f2a4b156dd6ba670640a295441a8"
   },
   "source": [
    "From the output above, it looks like the Gradient Boosting Regressor operforms the best using a scaled version of the data. From this point onward, I will build the regression algorithm using the Gradient Boosting Regressor. The GBM will be tested with a few n_estimators using the GridSearchCV function."
   ]
  },
  {
   "cell_type": "code",
   "execution_count": 22,
   "metadata": {
    "_cell_guid": "d4890501-a59b-4fd0-817c-b0e12515bc6f",
    "_uuid": "d9a7ccc96356a77b2f3f7b0a7a9bf6254c3babb0"
   },
   "outputs": [
    {
     "name": "stdout",
     "output_type": "stream",
     "text": [
      "-0.441173 (0.016910) with: {'n_estimators': 50}\n",
      "-0.429268 (0.016089) with: {'n_estimators': 100}\n",
      "-0.419476 (0.015658) with: {'n_estimators': 200}\n",
      "-0.417529 (0.015613) with: {'n_estimators': 300}\n",
      "-0.416993 (0.015713) with: {'n_estimators': 400}\n",
      "Best: -0.416993 using {'n_estimators': 400}\n"
     ]
    }
   ],
   "source": [
    "from sklearn.model_selection import GridSearchCV\n",
    "\n",
    "scaler = StandardScaler().fit(X_train)\n",
    "rescaledX = scaler.transform(X_train)\n",
    "param_grid = dict(n_estimators=np.array([50,100,200,300,400]))\n",
    "model = GradientBoostingRegressor(random_state=21)\n",
    "kfold = KFold(n_splits=10, random_state=21)\n",
    "grid = GridSearchCV(estimator=model, param_grid=param_grid, scoring='neg_mean_squared_error', cv=kfold)\n",
    "grid_result = grid.fit(rescaledX, Y_train)\n",
    "\n",
    "means = grid_result.cv_results_['mean_test_score']\n",
    "stds = grid_result.cv_results_['std_test_score']\n",
    "params = grid_result.cv_results_['params']\n",
    "for mean, stdev, param in zip(means, stds, params):\n",
    "    print(\"%f (%f) with: %r\" % (mean, stdev, param))\n",
    "\n",
    "print(\"Best: %f using %s\" % (grid_result.best_score_, grid_result.best_params_))"
   ]
  },
  {
   "cell_type": "markdown",
   "metadata": {
    "_cell_guid": "910325dc-6f9a-4e99-b22b-fb0f6fd55f22",
    "_uuid": "d270d177f0b0733fe0af3a94f8a02a70e621e839"
   },
   "source": [
    "The best n_estimator configuration is 400 with the negative mean square error closest to 0. \n",
    "\n",
    "## Finalise and validate model \n",
    "\n",
    "There's a need to standardise the training and test data before putting them through the GBR model. "
   ]
  },
  {
   "cell_type": "code",
   "execution_count": 23,
   "metadata": {
    "_cell_guid": "ed4bcf01-cdb3-4f95-ad7b-7ae2e284509c",
    "_uuid": "bfb080a3cafe20312fe907ff7c0f02a1a0f5d487"
   },
   "outputs": [
    {
     "name": "stdout",
     "output_type": "stream",
     "text": [
      "0.40449512133706966\n"
     ]
    }
   ],
   "source": [
    "from sklearn.metrics import mean_squared_error\n",
    "\n",
    "scaler = StandardScaler().fit(X_train)\n",
    "rescaled_X_train = scaler.transform(X_train)\n",
    "model = GradientBoostingRegressor(random_state=21, n_estimators=400)\n",
    "model.fit(rescaled_X_train, Y_train)\n",
    "\n",
    "# transform the validation dataset\n",
    "rescaled_X_test = scaler.transform(X_test)\n",
    "predictions = model.predict(rescaled_X_test)\n",
    "print (mean_squared_error(Y_test, predictions))"
   ]
  },
  {
   "cell_type": "markdown",
   "metadata": {
    "_cell_guid": "70fd11eb-067f-43b2-b95d-31dc99da8cd3",
    "_uuid": "c5c94914c48902169e7674bb9da4626e790e0680"
   },
   "source": [
    "From the mean square error of 0.046 between the prediction outputs vs the test data, the GBR performed well. Important to note that the mean_square_error is calculated using the scaled data. It does not represent the error between the actual house prices and predicted prices. To better appreciate the outcome of the predictions, I look at the raw predicted values and the corresponding test data."
   ]
  },
  {
   "cell_type": "code",
   "execution_count": 24,
   "metadata": {
    "_cell_guid": "5d13a428-1299-452a-8fc7-3ddc8966c86c",
    "_uuid": "323de7c04fdec43f084464baca5cb7d674366185"
   },
   "outputs": [
    {
     "data": {
      "text/html": [
       "<div>\n",
       "<style scoped>\n",
       "    .dataframe tbody tr th:only-of-type {\n",
       "        vertical-align: middle;\n",
       "    }\n",
       "\n",
       "    .dataframe tbody tr th {\n",
       "        vertical-align: top;\n",
       "    }\n",
       "\n",
       "    .dataframe thead th {\n",
       "        text-align: right;\n",
       "    }\n",
       "</style>\n",
       "<table border=\"1\" class=\"dataframe\">\n",
       "  <thead>\n",
       "    <tr style=\"text-align: right;\">\n",
       "      <th></th>\n",
       "      <th>Prediction</th>\n",
       "      <th>Test Data</th>\n",
       "    </tr>\n",
       "  </thead>\n",
       "  <tbody>\n",
       "    <tr>\n",
       "      <th>0</th>\n",
       "      <td>32.680116</td>\n",
       "      <td>32.040</td>\n",
       "    </tr>\n",
       "    <tr>\n",
       "      <th>1</th>\n",
       "      <td>34.800289</td>\n",
       "      <td>34.875</td>\n",
       "    </tr>\n",
       "    <tr>\n",
       "      <th>2</th>\n",
       "      <td>34.003874</td>\n",
       "      <td>34.085</td>\n",
       "    </tr>\n",
       "    <tr>\n",
       "      <th>3</th>\n",
       "      <td>35.892463</td>\n",
       "      <td>35.860</td>\n",
       "    </tr>\n",
       "    <tr>\n",
       "      <th>4</th>\n",
       "      <td>33.658534</td>\n",
       "      <td>33.960</td>\n",
       "    </tr>\n",
       "    <tr>\n",
       "      <th>5</th>\n",
       "      <td>36.267585</td>\n",
       "      <td>36.065</td>\n",
       "    </tr>\n",
       "    <tr>\n",
       "      <th>6</th>\n",
       "      <td>33.972163</td>\n",
       "      <td>33.370</td>\n",
       "    </tr>\n",
       "    <tr>\n",
       "      <th>7</th>\n",
       "      <td>37.974832</td>\n",
       "      <td>37.915</td>\n",
       "    </tr>\n",
       "    <tr>\n",
       "      <th>8</th>\n",
       "      <td>34.849708</td>\n",
       "      <td>34.550</td>\n",
       "    </tr>\n",
       "    <tr>\n",
       "      <th>9</th>\n",
       "      <td>38.374489</td>\n",
       "      <td>38.425</td>\n",
       "    </tr>\n",
       "  </tbody>\n",
       "</table>\n",
       "</div>"
      ],
      "text/plain": [
       "   Prediction  Test Data\n",
       "0   32.680116     32.040\n",
       "1   34.800289     34.875\n",
       "2   34.003874     34.085\n",
       "3   35.892463     35.860\n",
       "4   33.658534     33.960\n",
       "5   36.267585     36.065\n",
       "6   33.972163     33.370\n",
       "7   37.974832     37.915\n",
       "8   34.849708     34.550\n",
       "9   38.374489     38.425"
      ]
     },
     "execution_count": 24,
     "metadata": {},
     "output_type": "execute_result"
    }
   ],
   "source": [
    "compare = pd.DataFrame({'Prediction': predictions, 'Test Data' : Y_test})\n",
    "compare.head(10)"
   ]
  }
 ],
 "metadata": {
  "kernelspec": {
   "display_name": "Python 3",
   "language": "python",
   "name": "python3"
  },
  "language_info": {
   "codemirror_mode": {
    "name": "ipython",
    "version": 3
   },
   "file_extension": ".py",
   "mimetype": "text/x-python",
   "name": "python",
   "nbconvert_exporter": "python",
   "pygments_lexer": "ipython3",
   "version": "3.7.4"
  }
 },
 "nbformat": 4,
 "nbformat_minor": 2
}
